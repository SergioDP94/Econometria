{
  "cells": [
    {
      "cell_type": "markdown",
      "source": [
        "Autor: Sergio Diaz Paredes\n",
        "\n",
        "Contacto: [Linkedin](https://www.linkedin.com/in/sergio-diaz-paredes/)"
      ],
      "metadata": {
        "id": "h5rotLFEdzBx"
      }
    },
    {
      "cell_type": "markdown",
      "source": [
        "\n",
        "# Paquetes"
      ],
      "metadata": {
        "id": "8Tb56LkxAKKQ"
      }
    },
    {
      "cell_type": "code",
      "execution_count": 1,
      "metadata": {
        "id": "6gQJRu8Ybkrn"
      },
      "outputs": [],
      "source": [
        "import numpy as np\n",
        "import pandas as pd\n",
        "import matplotlib.pyplot as plt\n",
        "import statsmodels.formula.api as smf\n",
        "from pandas_datareader import wb"
      ]
    },
    {
      "cell_type": "markdown",
      "source": [
        "# Identificando indicadores"
      ],
      "metadata": {
        "id": "ZWwLdVWzOkMu"
      }
    },
    {
      "cell_type": "markdown",
      "source": [
        "Hay muchos indices disponibles y segmentados, aqui usaremos totales"
      ],
      "metadata": {
        "id": "p9Dhfcx7AQ9H"
      }
    },
    {
      "cell_type": "code",
      "source": [
        "wb.get_countries()"
      ],
      "metadata": {
        "colab": {
          "base_uri": "https://localhost:8080/",
          "height": 597
        },
        "id": "mFwU6x_EbupT",
        "outputId": "3ec333f4-b939-4613-e97e-5f402b64d16c"
      },
      "execution_count": 2,
      "outputs": [
        {
          "output_type": "execute_result",
          "data": {
            "text/plain": [
              "    iso3c iso2c                                               name  \\\n",
              "0     ABW    AW                                              Aruba   \n",
              "1     AFE    ZH                        Africa Eastern and Southern   \n",
              "2     AFG    AF                                        Afghanistan   \n",
              "3     AFR    A9                                             Africa   \n",
              "4     AFW    ZI                         Africa Western and Central   \n",
              "..    ...   ...                                                ...   \n",
              "291   XZN    A5  Sub-Saharan Africa excluding South Africa and ...   \n",
              "292   YEM    YE                                        Yemen, Rep.   \n",
              "293   ZAF    ZA                                       South Africa   \n",
              "294   ZMB    ZM                                             Zambia   \n",
              "295   ZWE    ZW                                           Zimbabwe   \n",
              "\n",
              "                         region  \\\n",
              "0    Latin America & Caribbean    \n",
              "1                    Aggregates   \n",
              "2                    South Asia   \n",
              "3                    Aggregates   \n",
              "4                    Aggregates   \n",
              "..                          ...   \n",
              "291                  Aggregates   \n",
              "292  Middle East & North Africa   \n",
              "293         Sub-Saharan Africa    \n",
              "294         Sub-Saharan Africa    \n",
              "295         Sub-Saharan Africa    \n",
              "\n",
              "                                           adminregion          incomeLevel  \\\n",
              "0                                                               High income   \n",
              "1                                                                Aggregates   \n",
              "2                                           South Asia           Low income   \n",
              "3                                                                Aggregates   \n",
              "4                                                                Aggregates   \n",
              "..                                                 ...                  ...   \n",
              "291                                                              Aggregates   \n",
              "292  Middle East & North Africa (excluding high inc...           Low income   \n",
              "293         Sub-Saharan Africa (excluding high income)  Upper middle income   \n",
              "294         Sub-Saharan Africa (excluding high income)  Lower middle income   \n",
              "295         Sub-Saharan Africa (excluding high income)  Lower middle income   \n",
              "\n",
              "        lendingType capitalCity  longitude  latitude  \n",
              "0    Not classified  Oranjestad   -70.0167   12.5167  \n",
              "1        Aggregates                    NaN       NaN  \n",
              "2               IDA       Kabul    69.1761   34.5228  \n",
              "3        Aggregates                    NaN       NaN  \n",
              "4        Aggregates                    NaN       NaN  \n",
              "..              ...         ...        ...       ...  \n",
              "291      Aggregates                    NaN       NaN  \n",
              "292             IDA      Sana'a    44.2075   15.3520  \n",
              "293            IBRD    Pretoria    28.1871  -25.7460  \n",
              "294             IDA      Lusaka    28.2937  -15.3982  \n",
              "295           Blend      Harare    31.0672  -17.8312  \n",
              "\n",
              "[296 rows x 10 columns]"
            ],
            "text/html": [
              "\n",
              "  <div id=\"df-4d2ac2a7-4839-4af0-8a5d-f4542468e10e\" class=\"colab-df-container\">\n",
              "    <div>\n",
              "<style scoped>\n",
              "    .dataframe tbody tr th:only-of-type {\n",
              "        vertical-align: middle;\n",
              "    }\n",
              "\n",
              "    .dataframe tbody tr th {\n",
              "        vertical-align: top;\n",
              "    }\n",
              "\n",
              "    .dataframe thead th {\n",
              "        text-align: right;\n",
              "    }\n",
              "</style>\n",
              "<table border=\"1\" class=\"dataframe\">\n",
              "  <thead>\n",
              "    <tr style=\"text-align: right;\">\n",
              "      <th></th>\n",
              "      <th>iso3c</th>\n",
              "      <th>iso2c</th>\n",
              "      <th>name</th>\n",
              "      <th>region</th>\n",
              "      <th>adminregion</th>\n",
              "      <th>incomeLevel</th>\n",
              "      <th>lendingType</th>\n",
              "      <th>capitalCity</th>\n",
              "      <th>longitude</th>\n",
              "      <th>latitude</th>\n",
              "    </tr>\n",
              "  </thead>\n",
              "  <tbody>\n",
              "    <tr>\n",
              "      <th>0</th>\n",
              "      <td>ABW</td>\n",
              "      <td>AW</td>\n",
              "      <td>Aruba</td>\n",
              "      <td>Latin America &amp; Caribbean</td>\n",
              "      <td></td>\n",
              "      <td>High income</td>\n",
              "      <td>Not classified</td>\n",
              "      <td>Oranjestad</td>\n",
              "      <td>-70.0167</td>\n",
              "      <td>12.5167</td>\n",
              "    </tr>\n",
              "    <tr>\n",
              "      <th>1</th>\n",
              "      <td>AFE</td>\n",
              "      <td>ZH</td>\n",
              "      <td>Africa Eastern and Southern</td>\n",
              "      <td>Aggregates</td>\n",
              "      <td></td>\n",
              "      <td>Aggregates</td>\n",
              "      <td>Aggregates</td>\n",
              "      <td></td>\n",
              "      <td>NaN</td>\n",
              "      <td>NaN</td>\n",
              "    </tr>\n",
              "    <tr>\n",
              "      <th>2</th>\n",
              "      <td>AFG</td>\n",
              "      <td>AF</td>\n",
              "      <td>Afghanistan</td>\n",
              "      <td>South Asia</td>\n",
              "      <td>South Asia</td>\n",
              "      <td>Low income</td>\n",
              "      <td>IDA</td>\n",
              "      <td>Kabul</td>\n",
              "      <td>69.1761</td>\n",
              "      <td>34.5228</td>\n",
              "    </tr>\n",
              "    <tr>\n",
              "      <th>3</th>\n",
              "      <td>AFR</td>\n",
              "      <td>A9</td>\n",
              "      <td>Africa</td>\n",
              "      <td>Aggregates</td>\n",
              "      <td></td>\n",
              "      <td>Aggregates</td>\n",
              "      <td>Aggregates</td>\n",
              "      <td></td>\n",
              "      <td>NaN</td>\n",
              "      <td>NaN</td>\n",
              "    </tr>\n",
              "    <tr>\n",
              "      <th>4</th>\n",
              "      <td>AFW</td>\n",
              "      <td>ZI</td>\n",
              "      <td>Africa Western and Central</td>\n",
              "      <td>Aggregates</td>\n",
              "      <td></td>\n",
              "      <td>Aggregates</td>\n",
              "      <td>Aggregates</td>\n",
              "      <td></td>\n",
              "      <td>NaN</td>\n",
              "      <td>NaN</td>\n",
              "    </tr>\n",
              "    <tr>\n",
              "      <th>...</th>\n",
              "      <td>...</td>\n",
              "      <td>...</td>\n",
              "      <td>...</td>\n",
              "      <td>...</td>\n",
              "      <td>...</td>\n",
              "      <td>...</td>\n",
              "      <td>...</td>\n",
              "      <td>...</td>\n",
              "      <td>...</td>\n",
              "      <td>...</td>\n",
              "    </tr>\n",
              "    <tr>\n",
              "      <th>291</th>\n",
              "      <td>XZN</td>\n",
              "      <td>A5</td>\n",
              "      <td>Sub-Saharan Africa excluding South Africa and ...</td>\n",
              "      <td>Aggregates</td>\n",
              "      <td></td>\n",
              "      <td>Aggregates</td>\n",
              "      <td>Aggregates</td>\n",
              "      <td></td>\n",
              "      <td>NaN</td>\n",
              "      <td>NaN</td>\n",
              "    </tr>\n",
              "    <tr>\n",
              "      <th>292</th>\n",
              "      <td>YEM</td>\n",
              "      <td>YE</td>\n",
              "      <td>Yemen, Rep.</td>\n",
              "      <td>Middle East &amp; North Africa</td>\n",
              "      <td>Middle East &amp; North Africa (excluding high inc...</td>\n",
              "      <td>Low income</td>\n",
              "      <td>IDA</td>\n",
              "      <td>Sana'a</td>\n",
              "      <td>44.2075</td>\n",
              "      <td>15.3520</td>\n",
              "    </tr>\n",
              "    <tr>\n",
              "      <th>293</th>\n",
              "      <td>ZAF</td>\n",
              "      <td>ZA</td>\n",
              "      <td>South Africa</td>\n",
              "      <td>Sub-Saharan Africa</td>\n",
              "      <td>Sub-Saharan Africa (excluding high income)</td>\n",
              "      <td>Upper middle income</td>\n",
              "      <td>IBRD</td>\n",
              "      <td>Pretoria</td>\n",
              "      <td>28.1871</td>\n",
              "      <td>-25.7460</td>\n",
              "    </tr>\n",
              "    <tr>\n",
              "      <th>294</th>\n",
              "      <td>ZMB</td>\n",
              "      <td>ZM</td>\n",
              "      <td>Zambia</td>\n",
              "      <td>Sub-Saharan Africa</td>\n",
              "      <td>Sub-Saharan Africa (excluding high income)</td>\n",
              "      <td>Lower middle income</td>\n",
              "      <td>IDA</td>\n",
              "      <td>Lusaka</td>\n",
              "      <td>28.2937</td>\n",
              "      <td>-15.3982</td>\n",
              "    </tr>\n",
              "    <tr>\n",
              "      <th>295</th>\n",
              "      <td>ZWE</td>\n",
              "      <td>ZW</td>\n",
              "      <td>Zimbabwe</td>\n",
              "      <td>Sub-Saharan Africa</td>\n",
              "      <td>Sub-Saharan Africa (excluding high income)</td>\n",
              "      <td>Lower middle income</td>\n",
              "      <td>Blend</td>\n",
              "      <td>Harare</td>\n",
              "      <td>31.0672</td>\n",
              "      <td>-17.8312</td>\n",
              "    </tr>\n",
              "  </tbody>\n",
              "</table>\n",
              "<p>296 rows × 10 columns</p>\n",
              "</div>\n",
              "    <div class=\"colab-df-buttons\">\n",
              "\n",
              "  <div class=\"colab-df-container\">\n",
              "    <button class=\"colab-df-convert\" onclick=\"convertToInteractive('df-4d2ac2a7-4839-4af0-8a5d-f4542468e10e')\"\n",
              "            title=\"Convert this dataframe to an interactive table.\"\n",
              "            style=\"display:none;\">\n",
              "\n",
              "  <svg xmlns=\"http://www.w3.org/2000/svg\" height=\"24px\" viewBox=\"0 -960 960 960\">\n",
              "    <path d=\"M120-120v-720h720v720H120Zm60-500h600v-160H180v160Zm220 220h160v-160H400v160Zm0 220h160v-160H400v160ZM180-400h160v-160H180v160Zm440 0h160v-160H620v160ZM180-180h160v-160H180v160Zm440 0h160v-160H620v160Z\"/>\n",
              "  </svg>\n",
              "    </button>\n",
              "\n",
              "  <style>\n",
              "    .colab-df-container {\n",
              "      display:flex;\n",
              "      gap: 12px;\n",
              "    }\n",
              "\n",
              "    .colab-df-convert {\n",
              "      background-color: #E8F0FE;\n",
              "      border: none;\n",
              "      border-radius: 50%;\n",
              "      cursor: pointer;\n",
              "      display: none;\n",
              "      fill: #1967D2;\n",
              "      height: 32px;\n",
              "      padding: 0 0 0 0;\n",
              "      width: 32px;\n",
              "    }\n",
              "\n",
              "    .colab-df-convert:hover {\n",
              "      background-color: #E2EBFA;\n",
              "      box-shadow: 0px 1px 2px rgba(60, 64, 67, 0.3), 0px 1px 3px 1px rgba(60, 64, 67, 0.15);\n",
              "      fill: #174EA6;\n",
              "    }\n",
              "\n",
              "    .colab-df-buttons div {\n",
              "      margin-bottom: 4px;\n",
              "    }\n",
              "\n",
              "    [theme=dark] .colab-df-convert {\n",
              "      background-color: #3B4455;\n",
              "      fill: #D2E3FC;\n",
              "    }\n",
              "\n",
              "    [theme=dark] .colab-df-convert:hover {\n",
              "      background-color: #434B5C;\n",
              "      box-shadow: 0px 1px 3px 1px rgba(0, 0, 0, 0.15);\n",
              "      filter: drop-shadow(0px 1px 2px rgba(0, 0, 0, 0.3));\n",
              "      fill: #FFFFFF;\n",
              "    }\n",
              "  </style>\n",
              "\n",
              "    <script>\n",
              "      const buttonEl =\n",
              "        document.querySelector('#df-4d2ac2a7-4839-4af0-8a5d-f4542468e10e button.colab-df-convert');\n",
              "      buttonEl.style.display =\n",
              "        google.colab.kernel.accessAllowed ? 'block' : 'none';\n",
              "\n",
              "      async function convertToInteractive(key) {\n",
              "        const element = document.querySelector('#df-4d2ac2a7-4839-4af0-8a5d-f4542468e10e');\n",
              "        const dataTable =\n",
              "          await google.colab.kernel.invokeFunction('convertToInteractive',\n",
              "                                                    [key], {});\n",
              "        if (!dataTable) return;\n",
              "\n",
              "        const docLinkHtml = 'Like what you see? Visit the ' +\n",
              "          '<a target=\"_blank\" href=https://colab.research.google.com/notebooks/data_table.ipynb>data table notebook</a>'\n",
              "          + ' to learn more about interactive tables.';\n",
              "        element.innerHTML = '';\n",
              "        dataTable['output_type'] = 'display_data';\n",
              "        await google.colab.output.renderOutput(dataTable, element);\n",
              "        const docLink = document.createElement('div');\n",
              "        docLink.innerHTML = docLinkHtml;\n",
              "        element.appendChild(docLink);\n",
              "      }\n",
              "    </script>\n",
              "  </div>\n",
              "\n",
              "\n",
              "<div id=\"df-36bf7cdc-ef7c-4d14-abe8-1ee1d42b3ccc\">\n",
              "  <button class=\"colab-df-quickchart\" onclick=\"quickchart('df-36bf7cdc-ef7c-4d14-abe8-1ee1d42b3ccc')\"\n",
              "            title=\"Suggest charts\"\n",
              "            style=\"display:none;\">\n",
              "\n",
              "<svg xmlns=\"http://www.w3.org/2000/svg\" height=\"24px\"viewBox=\"0 0 24 24\"\n",
              "     width=\"24px\">\n",
              "    <g>\n",
              "        <path d=\"M19 3H5c-1.1 0-2 .9-2 2v14c0 1.1.9 2 2 2h14c1.1 0 2-.9 2-2V5c0-1.1-.9-2-2-2zM9 17H7v-7h2v7zm4 0h-2V7h2v10zm4 0h-2v-4h2v4z\"/>\n",
              "    </g>\n",
              "</svg>\n",
              "  </button>\n",
              "\n",
              "<style>\n",
              "  .colab-df-quickchart {\n",
              "      --bg-color: #E8F0FE;\n",
              "      --fill-color: #1967D2;\n",
              "      --hover-bg-color: #E2EBFA;\n",
              "      --hover-fill-color: #174EA6;\n",
              "      --disabled-fill-color: #AAA;\n",
              "      --disabled-bg-color: #DDD;\n",
              "  }\n",
              "\n",
              "  [theme=dark] .colab-df-quickchart {\n",
              "      --bg-color: #3B4455;\n",
              "      --fill-color: #D2E3FC;\n",
              "      --hover-bg-color: #434B5C;\n",
              "      --hover-fill-color: #FFFFFF;\n",
              "      --disabled-bg-color: #3B4455;\n",
              "      --disabled-fill-color: #666;\n",
              "  }\n",
              "\n",
              "  .colab-df-quickchart {\n",
              "    background-color: var(--bg-color);\n",
              "    border: none;\n",
              "    border-radius: 50%;\n",
              "    cursor: pointer;\n",
              "    display: none;\n",
              "    fill: var(--fill-color);\n",
              "    height: 32px;\n",
              "    padding: 0;\n",
              "    width: 32px;\n",
              "  }\n",
              "\n",
              "  .colab-df-quickchart:hover {\n",
              "    background-color: var(--hover-bg-color);\n",
              "    box-shadow: 0 1px 2px rgba(60, 64, 67, 0.3), 0 1px 3px 1px rgba(60, 64, 67, 0.15);\n",
              "    fill: var(--button-hover-fill-color);\n",
              "  }\n",
              "\n",
              "  .colab-df-quickchart-complete:disabled,\n",
              "  .colab-df-quickchart-complete:disabled:hover {\n",
              "    background-color: var(--disabled-bg-color);\n",
              "    fill: var(--disabled-fill-color);\n",
              "    box-shadow: none;\n",
              "  }\n",
              "\n",
              "  .colab-df-spinner {\n",
              "    border: 2px solid var(--fill-color);\n",
              "    border-color: transparent;\n",
              "    border-bottom-color: var(--fill-color);\n",
              "    animation:\n",
              "      spin 1s steps(1) infinite;\n",
              "  }\n",
              "\n",
              "  @keyframes spin {\n",
              "    0% {\n",
              "      border-color: transparent;\n",
              "      border-bottom-color: var(--fill-color);\n",
              "      border-left-color: var(--fill-color);\n",
              "    }\n",
              "    20% {\n",
              "      border-color: transparent;\n",
              "      border-left-color: var(--fill-color);\n",
              "      border-top-color: var(--fill-color);\n",
              "    }\n",
              "    30% {\n",
              "      border-color: transparent;\n",
              "      border-left-color: var(--fill-color);\n",
              "      border-top-color: var(--fill-color);\n",
              "      border-right-color: var(--fill-color);\n",
              "    }\n",
              "    40% {\n",
              "      border-color: transparent;\n",
              "      border-right-color: var(--fill-color);\n",
              "      border-top-color: var(--fill-color);\n",
              "    }\n",
              "    60% {\n",
              "      border-color: transparent;\n",
              "      border-right-color: var(--fill-color);\n",
              "    }\n",
              "    80% {\n",
              "      border-color: transparent;\n",
              "      border-right-color: var(--fill-color);\n",
              "      border-bottom-color: var(--fill-color);\n",
              "    }\n",
              "    90% {\n",
              "      border-color: transparent;\n",
              "      border-bottom-color: var(--fill-color);\n",
              "    }\n",
              "  }\n",
              "</style>\n",
              "\n",
              "  <script>\n",
              "    async function quickchart(key) {\n",
              "      const quickchartButtonEl =\n",
              "        document.querySelector('#' + key + ' button');\n",
              "      quickchartButtonEl.disabled = true;  // To prevent multiple clicks.\n",
              "      quickchartButtonEl.classList.add('colab-df-spinner');\n",
              "      try {\n",
              "        const charts = await google.colab.kernel.invokeFunction(\n",
              "            'suggestCharts', [key], {});\n",
              "      } catch (error) {\n",
              "        console.error('Error during call to suggestCharts:', error);\n",
              "      }\n",
              "      quickchartButtonEl.classList.remove('colab-df-spinner');\n",
              "      quickchartButtonEl.classList.add('colab-df-quickchart-complete');\n",
              "    }\n",
              "    (() => {\n",
              "      let quickchartButtonEl =\n",
              "        document.querySelector('#df-36bf7cdc-ef7c-4d14-abe8-1ee1d42b3ccc button');\n",
              "      quickchartButtonEl.style.display =\n",
              "        google.colab.kernel.accessAllowed ? 'block' : 'none';\n",
              "    })();\n",
              "  </script>\n",
              "</div>\n",
              "\n",
              "    </div>\n",
              "  </div>\n"
            ],
            "application/vnd.google.colaboratory.intrinsic+json": {
              "type": "dataframe",
              "summary": "{\n  \"name\": \"wb\",\n  \"rows\": 296,\n  \"fields\": [\n    {\n      \"column\": \"iso3c\",\n      \"properties\": {\n        \"dtype\": \"string\",\n        \"num_unique_values\": 296,\n        \"samples\": [\n          \"TUV\",\n          \"LBY\",\n          \"EAS\"\n        ],\n        \"semantic_type\": \"\",\n        \"description\": \"\"\n      }\n    },\n    {\n      \"column\": \"iso2c\",\n      \"properties\": {\n        \"dtype\": \"string\",\n        \"num_unique_values\": 296,\n        \"samples\": [\n          \"TV\",\n          \"LY\",\n          \"Z4\"\n        ],\n        \"semantic_type\": \"\",\n        \"description\": \"\"\n      }\n    },\n    {\n      \"column\": \"name\",\n      \"properties\": {\n        \"dtype\": \"string\",\n        \"num_unique_values\": 296,\n        \"samples\": [\n          \"Tuvalu\",\n          \"Libya\",\n          \"East Asia & Pacific\"\n        ],\n        \"semantic_type\": \"\",\n        \"description\": \"\"\n      }\n    },\n    {\n      \"column\": \"region\",\n      \"properties\": {\n        \"dtype\": \"category\",\n        \"num_unique_values\": 8,\n        \"samples\": [\n          \"Aggregates\",\n          \"Middle East & North Africa\",\n          \"Latin America & Caribbean \"\n        ],\n        \"semantic_type\": \"\",\n        \"description\": \"\"\n      }\n    },\n    {\n      \"column\": \"adminregion\",\n      \"properties\": {\n        \"dtype\": \"category\",\n        \"num_unique_values\": 7,\n        \"samples\": [\n          \"\",\n          \"South Asia\",\n          \"East Asia & Pacific (excluding high income)\"\n        ],\n        \"semantic_type\": \"\",\n        \"description\": \"\"\n      }\n    },\n    {\n      \"column\": \"incomeLevel\",\n      \"properties\": {\n        \"dtype\": \"category\",\n        \"num_unique_values\": 6,\n        \"samples\": [\n          \"High income\",\n          \"Aggregates\",\n          \"Not classified\"\n        ],\n        \"semantic_type\": \"\",\n        \"description\": \"\"\n      }\n    },\n    {\n      \"column\": \"lendingType\",\n      \"properties\": {\n        \"dtype\": \"category\",\n        \"num_unique_values\": 5,\n        \"samples\": [\n          \"Aggregates\",\n          \"Blend\",\n          \"IDA\"\n        ],\n        \"semantic_type\": \"\",\n        \"description\": \"\"\n      }\n    },\n    {\n      \"column\": \"capitalCity\",\n      \"properties\": {\n        \"dtype\": \"string\",\n        \"num_unique_values\": 212,\n        \"samples\": [\n          \"Thimphu\",\n          \"Sao Tome\",\n          \"Amsterdam\"\n        ],\n        \"semantic_type\": \"\",\n        \"description\": \"\"\n      }\n    },\n    {\n      \"column\": \"longitude\",\n      \"properties\": {\n        \"dtype\": \"number\",\n        \"std\": 70.39106873390224,\n        \"min\": -175.216,\n        \"max\": 179.089567,\n        \"num_unique_values\": 211,\n        \"samples\": [\n          25.9201,\n          6.6071,\n          4.89095\n        ],\n        \"semantic_type\": \"\",\n        \"description\": \"\"\n      }\n    },\n    {\n      \"column\": \"latitude\",\n      \"properties\": {\n        \"dtype\": \"number\",\n        \"std\": 24.210876980185663,\n        \"min\": -41.2865,\n        \"max\": 64.1836,\n        \"num_unique_values\": 211,\n        \"samples\": [\n          -24.6544,\n          0.20618,\n          52.3738\n        ],\n        \"semantic_type\": \"\",\n        \"description\": \"\"\n      }\n    }\n  ]\n}"
            }
          },
          "metadata": {},
          "execution_count": 2
        }
      ]
    },
    {
      "cell_type": "code",
      "source": [
        "indicadores_desempleo = wb.search('Unemployment')\n",
        "indicadores_desempleo.query('id==\"SL.UEM.TOTL.ZS\"')"
      ],
      "metadata": {
        "id": "SEwD4aVO7-qr",
        "colab": {
          "base_uri": "https://localhost:8080/",
          "height": 115
        },
        "outputId": "8e3e09d4-46ad-4596-cc67-5c7f8a19c5a3"
      },
      "execution_count": 4,
      "outputs": [
        {
          "output_type": "execute_result",
          "data": {
            "text/plain": [
              "                   id                                               name unit  \\\n",
              "17520  SL.UEM.TOTL.ZS  Unemployment, total (% of total labor force) (...        \n",
              "\n",
              "                             source  \\\n",
              "17520  World Development Indicators   \n",
              "\n",
              "                                              sourceNote  \\\n",
              "17520  Unemployment refers to the share of the labor ...   \n",
              "\n",
              "                                      sourceOrganization  \\\n",
              "17520  b'International Labour Organization. ILO Model...   \n",
              "\n",
              "                                       topics  \n",
              "17520  Education  ; Social Protection & Labor  "
            ],
            "text/html": [
              "\n",
              "  <div id=\"df-e456c28d-65f8-4c5b-87d4-737cd0af4c39\" class=\"colab-df-container\">\n",
              "    <div>\n",
              "<style scoped>\n",
              "    .dataframe tbody tr th:only-of-type {\n",
              "        vertical-align: middle;\n",
              "    }\n",
              "\n",
              "    .dataframe tbody tr th {\n",
              "        vertical-align: top;\n",
              "    }\n",
              "\n",
              "    .dataframe thead th {\n",
              "        text-align: right;\n",
              "    }\n",
              "</style>\n",
              "<table border=\"1\" class=\"dataframe\">\n",
              "  <thead>\n",
              "    <tr style=\"text-align: right;\">\n",
              "      <th></th>\n",
              "      <th>id</th>\n",
              "      <th>name</th>\n",
              "      <th>unit</th>\n",
              "      <th>source</th>\n",
              "      <th>sourceNote</th>\n",
              "      <th>sourceOrganization</th>\n",
              "      <th>topics</th>\n",
              "    </tr>\n",
              "  </thead>\n",
              "  <tbody>\n",
              "    <tr>\n",
              "      <th>17520</th>\n",
              "      <td>SL.UEM.TOTL.ZS</td>\n",
              "      <td>Unemployment, total (% of total labor force) (...</td>\n",
              "      <td></td>\n",
              "      <td>World Development Indicators</td>\n",
              "      <td>Unemployment refers to the share of the labor ...</td>\n",
              "      <td>b'International Labour Organization. ILO Model...</td>\n",
              "      <td>Education  ; Social Protection &amp; Labor</td>\n",
              "    </tr>\n",
              "  </tbody>\n",
              "</table>\n",
              "</div>\n",
              "    <div class=\"colab-df-buttons\">\n",
              "\n",
              "  <div class=\"colab-df-container\">\n",
              "    <button class=\"colab-df-convert\" onclick=\"convertToInteractive('df-e456c28d-65f8-4c5b-87d4-737cd0af4c39')\"\n",
              "            title=\"Convert this dataframe to an interactive table.\"\n",
              "            style=\"display:none;\">\n",
              "\n",
              "  <svg xmlns=\"http://www.w3.org/2000/svg\" height=\"24px\" viewBox=\"0 -960 960 960\">\n",
              "    <path d=\"M120-120v-720h720v720H120Zm60-500h600v-160H180v160Zm220 220h160v-160H400v160Zm0 220h160v-160H400v160ZM180-400h160v-160H180v160Zm440 0h160v-160H620v160ZM180-180h160v-160H180v160Zm440 0h160v-160H620v160Z\"/>\n",
              "  </svg>\n",
              "    </button>\n",
              "\n",
              "  <style>\n",
              "    .colab-df-container {\n",
              "      display:flex;\n",
              "      gap: 12px;\n",
              "    }\n",
              "\n",
              "    .colab-df-convert {\n",
              "      background-color: #E8F0FE;\n",
              "      border: none;\n",
              "      border-radius: 50%;\n",
              "      cursor: pointer;\n",
              "      display: none;\n",
              "      fill: #1967D2;\n",
              "      height: 32px;\n",
              "      padding: 0 0 0 0;\n",
              "      width: 32px;\n",
              "    }\n",
              "\n",
              "    .colab-df-convert:hover {\n",
              "      background-color: #E2EBFA;\n",
              "      box-shadow: 0px 1px 2px rgba(60, 64, 67, 0.3), 0px 1px 3px 1px rgba(60, 64, 67, 0.15);\n",
              "      fill: #174EA6;\n",
              "    }\n",
              "\n",
              "    .colab-df-buttons div {\n",
              "      margin-bottom: 4px;\n",
              "    }\n",
              "\n",
              "    [theme=dark] .colab-df-convert {\n",
              "      background-color: #3B4455;\n",
              "      fill: #D2E3FC;\n",
              "    }\n",
              "\n",
              "    [theme=dark] .colab-df-convert:hover {\n",
              "      background-color: #434B5C;\n",
              "      box-shadow: 0px 1px 3px 1px rgba(0, 0, 0, 0.15);\n",
              "      filter: drop-shadow(0px 1px 2px rgba(0, 0, 0, 0.3));\n",
              "      fill: #FFFFFF;\n",
              "    }\n",
              "  </style>\n",
              "\n",
              "    <script>\n",
              "      const buttonEl =\n",
              "        document.querySelector('#df-e456c28d-65f8-4c5b-87d4-737cd0af4c39 button.colab-df-convert');\n",
              "      buttonEl.style.display =\n",
              "        google.colab.kernel.accessAllowed ? 'block' : 'none';\n",
              "\n",
              "      async function convertToInteractive(key) {\n",
              "        const element = document.querySelector('#df-e456c28d-65f8-4c5b-87d4-737cd0af4c39');\n",
              "        const dataTable =\n",
              "          await google.colab.kernel.invokeFunction('convertToInteractive',\n",
              "                                                    [key], {});\n",
              "        if (!dataTable) return;\n",
              "\n",
              "        const docLinkHtml = 'Like what you see? Visit the ' +\n",
              "          '<a target=\"_blank\" href=https://colab.research.google.com/notebooks/data_table.ipynb>data table notebook</a>'\n",
              "          + ' to learn more about interactive tables.';\n",
              "        element.innerHTML = '';\n",
              "        dataTable['output_type'] = 'display_data';\n",
              "        await google.colab.output.renderOutput(dataTable, element);\n",
              "        const docLink = document.createElement('div');\n",
              "        docLink.innerHTML = docLinkHtml;\n",
              "        element.appendChild(docLink);\n",
              "      }\n",
              "    </script>\n",
              "  </div>\n",
              "\n",
              "\n",
              "    </div>\n",
              "  </div>\n"
            ],
            "application/vnd.google.colaboratory.intrinsic+json": {
              "type": "dataframe",
              "repr_error": "0"
            }
          },
          "metadata": {},
          "execution_count": 4
        }
      ]
    },
    {
      "cell_type": "markdown",
      "source": [
        "# Importando datos"
      ],
      "metadata": {
        "id": "p3IqfODEANcQ"
      }
    },
    {
      "cell_type": "code",
      "execution_count": 5,
      "metadata": {
        "id": "Nxhj4_17w2I4"
      },
      "outputs": [],
      "source": [
        "paises = ['PE', 'BO','CL']"
      ]
    },
    {
      "cell_type": "code",
      "execution_count": 6,
      "metadata": {
        "id": "kZ5pV-_xuohJ"
      },
      "outputs": [],
      "source": [
        "inicio = 1995"
      ]
    },
    {
      "cell_type": "markdown",
      "source": [
        "## Desempleo"
      ],
      "metadata": {
        "id": "FpoQDp5FAPeg"
      }
    },
    {
      "cell_type": "code",
      "source": [
        "desempleo = wb.download(indicator='SL.UEM.TOTL.ZS',\n",
        "country=paises,start=inicio, end=2022)"
      ],
      "metadata": {
        "id": "qyaDMoFicWDb",
        "outputId": "b3486b5d-e684-4ee2-862a-4253faa9f551",
        "colab": {
          "base_uri": "https://localhost:8080/"
        }
      },
      "execution_count": 7,
      "outputs": [
        {
          "output_type": "stream",
          "name": "stderr",
          "text": [
            "<ipython-input-7-1bd8d4dc2c5f>:1: FutureWarning: errors='ignore' is deprecated and will raise in a future version. Use to_numeric without passing `errors` and catch exceptions explicitly instead\n",
            "  desempleo = wb.download(indicator='SL.UEM.TOTL.ZS',\n"
          ]
        }
      ]
    },
    {
      "cell_type": "code",
      "execution_count": 18,
      "metadata": {
        "colab": {
          "base_uri": "https://localhost:8080/",
          "height": 548
        },
        "id": "Rn-nMUwUh_KI",
        "outputId": "fb6d3ce6-ea39-48c0-9d07-4155777db5c2"
      },
      "outputs": [
        {
          "output_type": "stream",
          "name": "stderr",
          "text": [
            "<ipython-input-18-ebaeeef71c04>:1: FutureWarning: errors='ignore' is deprecated and will raise in a future version. Use to_numeric without passing `errors` and catch exceptions explicitly instead\n",
            "  desempleo = wb.download(indicator='SL.UEM.TOTL.ZS',country=paises,start=inicio, end=2022)\n"
          ]
        },
        {
          "output_type": "display_data",
          "data": {
            "text/plain": [
              "<Figure size 640x480 with 1 Axes>"
            ],
            "image/png": "[encoded data removed]"
          },
          "metadata": {}
        }
      ],
      "source": [
        "desempleo = wb.download(indicator='SL.UEM.TOTL.ZS',country=paises,start=inicio, end=2022)\n",
        "#datos\n",
        "desempleo = desempleo.reset_index().pivot_table(index='year',columns='country',values='SL.UEM.TOTL.ZS')\n",
        "desempleo.index = pd.to_numeric(desempleo.index)\n",
        "desempleo.plot()\n",
        "plt.title('Tasa de Desempleo\\nUnemployment, total (% of total labor force)')\n",
        "plt.show()"
      ]
    },
    {
      "cell_type": "markdown",
      "source": [
        "## Inflación"
      ],
      "metadata": {
        "id": "w3o26DAxAZFC"
      }
    },
    {
      "cell_type": "code",
      "source": [
        "indicadores_inflacion = wb.search('Consumer Price')\n",
        "indicadores_inflacion.query('id==\"FP.CPI.TOTL.ZG\"')"
      ],
      "metadata": {
        "colab": {
          "base_uri": "https://localhost:8080/",
          "height": 98
        },
        "id": "OVwakZJp_QbZ",
        "outputId": "e8fc9c29-9a63-4b8a-d7f6-b7490a86e75c"
      },
      "execution_count": 19,
      "outputs": [
        {
          "output_type": "execute_result",
          "data": {
            "text/plain": [
              "                  id                                   name unit  \\\n",
              "6916  FP.CPI.TOTL.ZG  Inflation, consumer prices (annual %)        \n",
              "\n",
              "                            source  \\\n",
              "6916  World Development Indicators   \n",
              "\n",
              "                                             sourceNote  \\\n",
              "6916  Inflation as measured by the consumer price in...   \n",
              "\n",
              "                                     sourceOrganization  \\\n",
              "6916  b'International Monetary Fund, International F...   \n",
              "\n",
              "                                    topics  \n",
              "6916  Economy & Growth ; Financial Sector   "
            ],
            "text/html": [
              "\n",
              "  <div id=\"df-4efbe1e9-1922-47ed-a0e7-e8ab5c328290\" class=\"colab-df-container\">\n",
              "    <div>\n",
              "<style scoped>\n",
              "    .dataframe tbody tr th:only-of-type {\n",
              "        vertical-align: middle;\n",
              "    }\n",
              "\n",
              "    .dataframe tbody tr th {\n",
              "        vertical-align: top;\n",
              "    }\n",
              "\n",
              "    .dataframe thead th {\n",
              "        text-align: right;\n",
              "    }\n",
              "</style>\n",
              "<table border=\"1\" class=\"dataframe\">\n",
              "  <thead>\n",
              "    <tr style=\"text-align: right;\">\n",
              "      <th></th>\n",
              "      <th>id</th>\n",
              "      <th>name</th>\n",
              "      <th>unit</th>\n",
              "      <th>source</th>\n",
              "      <th>sourceNote</th>\n",
              "      <th>sourceOrganization</th>\n",
              "      <th>topics</th>\n",
              "    </tr>\n",
              "  </thead>\n",
              "  <tbody>\n",
              "    <tr>\n",
              "      <th>6916</th>\n",
              "      <td>FP.CPI.TOTL.ZG</td>\n",
              "      <td>Inflation, consumer prices (annual %)</td>\n",
              "      <td></td>\n",
              "      <td>World Development Indicators</td>\n",
              "      <td>Inflation as measured by the consumer price in...</td>\n",
              "      <td>b'International Monetary Fund, International F...</td>\n",
              "      <td>Economy &amp; Growth ; Financial Sector</td>\n",
              "    </tr>\n",
              "  </tbody>\n",
              "</table>\n",
              "</div>\n",
              "    <div class=\"colab-df-buttons\">\n",
              "\n",
              "  <div class=\"colab-df-container\">\n",
              "    <button class=\"colab-df-convert\" onclick=\"convertToInteractive('df-4efbe1e9-1922-47ed-a0e7-e8ab5c328290')\"\n",
              "            title=\"Convert this dataframe to an interactive table.\"\n",
              "            style=\"display:none;\">\n",
              "\n",
              "  <svg xmlns=\"http://www.w3.org/2000/svg\" height=\"24px\" viewBox=\"0 -960 960 960\">\n",
              "    <path d=\"M120-120v-720h720v720H120Zm60-500h600v-160H180v160Zm220 220h160v-160H400v160Zm0 220h160v-160H400v160ZM180-400h160v-160H180v160Zm440 0h160v-160H620v160ZM180-180h160v-160H180v160Zm440 0h160v-160H620v160Z\"/>\n",
              "  </svg>\n",
              "    </button>\n",
              "\n",
              "  <style>\n",
              "    .colab-df-container {\n",
              "      display:flex;\n",
              "      gap: 12px;\n",
              "    }\n",
              "\n",
              "    .colab-df-convert {\n",
              "      background-color: #E8F0FE;\n",
              "      border: none;\n",
              "      border-radius: 50%;\n",
              "      cursor: pointer;\n",
              "      display: none;\n",
              "      fill: #1967D2;\n",
              "      height: 32px;\n",
              "      padding: 0 0 0 0;\n",
              "      width: 32px;\n",
              "    }\n",
              "\n",
              "    .colab-df-convert:hover {\n",
              "      background-color: #E2EBFA;\n",
              "      box-shadow: 0px 1px 2px rgba(60, 64, 67, 0.3), 0px 1px 3px 1px rgba(60, 64, 67, 0.15);\n",
              "      fill: #174EA6;\n",
              "    }\n",
              "\n",
              "    .colab-df-buttons div {\n",
              "      margin-bottom: 4px;\n",
              "    }\n",
              "\n",
              "    [theme=dark] .colab-df-convert {\n",
              "      background-color: #3B4455;\n",
              "      fill: #D2E3FC;\n",
              "    }\n",
              "\n",
              "    [theme=dark] .colab-df-convert:hover {\n",
              "      background-color: #434B5C;\n",
              "      box-shadow: 0px 1px 3px 1px rgba(0, 0, 0, 0.15);\n",
              "      filter: drop-shadow(0px 1px 2px rgba(0, 0, 0, 0.3));\n",
              "      fill: #FFFFFF;\n",
              "    }\n",
              "  </style>\n",
              "\n",
              "    <script>\n",
              "      const buttonEl =\n",
              "        document.querySelector('#df-4efbe1e9-1922-47ed-a0e7-e8ab5c328290 button.colab-df-convert');\n",
              "      buttonEl.style.display =\n",
              "        google.colab.kernel.accessAllowed ? 'block' : 'none';\n",
              "\n",
              "      async function convertToInteractive(key) {\n",
              "        const element = document.querySelector('#df-4efbe1e9-1922-47ed-a0e7-e8ab5c328290');\n",
              "        const dataTable =\n",
              "          await google.colab.kernel.invokeFunction('convertToInteractive',\n",
              "                                                    [key], {});\n",
              "        if (!dataTable) return;\n",
              "\n",
              "        const docLinkHtml = 'Like what you see? Visit the ' +\n",
              "          '<a target=\"_blank\" href=https://colab.research.google.com/notebooks/data_table.ipynb>data table notebook</a>'\n",
              "          + ' to learn more about interactive tables.';\n",
              "        element.innerHTML = '';\n",
              "        dataTable['output_type'] = 'display_data';\n",
              "        await google.colab.output.renderOutput(dataTable, element);\n",
              "        const docLink = document.createElement('div');\n",
              "        docLink.innerHTML = docLinkHtml;\n",
              "        element.appendChild(docLink);\n",
              "      }\n",
              "    </script>\n",
              "  </div>\n",
              "\n",
              "\n",
              "    </div>\n",
              "  </div>\n"
            ],
            "application/vnd.google.colaboratory.intrinsic+json": {
              "type": "dataframe",
              "repr_error": "0"
            }
          },
          "metadata": {},
          "execution_count": 19
        }
      ]
    },
    {
      "cell_type": "code",
      "execution_count": 20,
      "metadata": {
        "colab": {
          "base_uri": "https://localhost:8080/",
          "height": 548
        },
        "id": "UFQQ-mTEi8P3",
        "outputId": "e2efdd39-8538-4b97-ec2b-407c3d533976"
      },
      "outputs": [
        {
          "output_type": "stream",
          "name": "stderr",
          "text": [
            "<ipython-input-20-76ab4488bf85>:1: FutureWarning: errors='ignore' is deprecated and will raise in a future version. Use to_numeric without passing `errors` and catch exceptions explicitly instead\n",
            "  inflacion = wb.download(indicator='FP.CPI.TOTL.ZG',\n"
          ]
        },
        {
          "output_type": "display_data",
          "data": {
            "text/plain": [
              "<Figure size 640x480 with 1 Axes>"
            ],
            "image/png": "[encoded data removed]"
          },
          "metadata": {}
        }
      ],
      "source": [
        "inflacion = wb.download(indicator='FP.CPI.TOTL.ZG',\n",
        "country=paises,start=inicio, end=2022)\n",
        "#datos\n",
        "inflacion = inflacion.reset_index().pivot_table(index='year',columns='country',values='FP.CPI.TOTL.ZG')\n",
        "inflacion.index = pd.to_numeric(inflacion.index)\n",
        "inflacion.plot()\n",
        "plt.title('Tasa de Inflación\\nInflation, consumer prices (annual %)')\n",
        "plt.show()"
      ]
    },
    {
      "cell_type": "markdown",
      "source": [
        "# Analizando en conjunto"
      ],
      "metadata": {
        "id": "0mP2bBt8AbsY"
      }
    },
    {
      "cell_type": "markdown",
      "source": [
        "## Generando data unida"
      ],
      "metadata": {
        "id": "KuH2iWt4AfMA"
      }
    },
    {
      "cell_type": "code",
      "execution_count": 21,
      "metadata": {
        "colab": {
          "base_uri": "https://localhost:8080/"
        },
        "id": "ep2MmqDulrIF",
        "outputId": "fb96c672-34e2-4746-811a-af4e0b1bed1a"
      },
      "outputs": [
        {
          "output_type": "stream",
          "name": "stdout",
          "text": [
            "    year  country  desempleo  inflacion\n",
            "0   1995  Bolivia      2.665  10.193207\n",
            "1   1996  Bolivia      2.375  12.425487\n",
            "2   1997  Bolivia      2.080   4.708444\n",
            "3   1998  Bolivia      2.122   7.673229\n",
            "4   1999  Bolivia      2.300   2.159516\n",
            "..   ...      ...        ...        ...\n",
            "79  2018     Peru      3.492   1.509154\n",
            "80  2019     Peru      3.379   2.252122\n",
            "81  2020     Peru      7.179   2.002412\n",
            "82  2021     Peru      5.097   4.271664\n",
            "83  2022     Peru      3.850   8.333706\n",
            "\n",
            "[84 rows x 4 columns]\n"
          ]
        }
      ],
      "source": [
        "df_combined = pd.merge(desempleo.reset_index().melt(id_vars=['year'], var_name='country', value_name='desempleo'),\n",
        "                       inflacion.reset_index().melt(id_vars=['year'], var_name='country', value_name='inflacion'),\n",
        "                       on=['year', 'country'])\n",
        "\n",
        "print(df_combined)"
      ]
    },
    {
      "cell_type": "markdown",
      "source": [
        "## Modelando curva de Phillips"
      ],
      "metadata": {
        "id": "gnGvPoSaAkHo"
      }
    },
    {
      "cell_type": "code",
      "execution_count": 22,
      "metadata": {
        "id": "D4szpXKLNepy",
        "colab": {
          "base_uri": "https://localhost:8080/"
        },
        "outputId": "4a3025ff-c3e2-4fd7-9467-4e50cfc15fb6"
      },
      "outputs": [
        {
          "output_type": "stream",
          "name": "stdout",
          "text": [
            "R cuadrado:\n",
            "Bolivia: 0.40423407823656066\n",
            "Chile: 0.14626669581398166\n",
            "Peru: 0.0008922267977734544\n"
          ]
        }
      ],
      "source": [
        "modelos = []\n",
        "x_range = []\n",
        "print(f\"R cuadrado:\")\n",
        "for x in df_combined.country.unique():\n",
        "  mi,ma = df_combined.query(f'country==\"{x}\"').desempleo.min(),df_combined.query(f'country==\"{x}\"').desempleo.max()\n",
        "  x_ = np.arange(mi,ma,0.1)\n",
        "  x_range.append(x_)\n",
        "  modelo = smf.ols(formula='np.log(inflacion) ~ np.log(desempleo)', data=df_combined.query(f'country==\"{x}\"')).fit()\n",
        "  print(f\"{x}: {modelo.rsquared}\")\n",
        "  modelos.append(modelo)\n",
        "  #print(modelo.summary())"
      ]
    },
    {
      "cell_type": "markdown",
      "source": [
        "## Comparando resultados"
      ],
      "metadata": {
        "id": "Ao8oPbp2TQol"
      }
    },
    {
      "cell_type": "code",
      "source": [
        "pip install stargazer"
      ],
      "metadata": {
        "id": "aUxmmxjYQ5H2",
        "colab": {
          "base_uri": "https://localhost:8080/"
        },
        "outputId": "5b7755b4-ff67-4b13-f7a1-61a59bbf94a0"
      },
      "execution_count": 23,
      "outputs": [
        {
          "output_type": "stream",
          "name": "stdout",
          "text": [
            "Collecting stargazer\n",
            "  Downloading stargazer-0.0.7-py3-none-any.whl.metadata (6.3 kB)\n",
            "Downloading stargazer-0.0.7-py3-none-any.whl (15 kB)\n",
            "Installing collected packages: stargazer\n",
            "Successfully installed stargazer-0.0.7\n"
          ]
        }
      ]
    },
    {
      "cell_type": "code",
      "source": [
        "from stargazer.stargazer import Stargazer\n",
        "from IPython.core.display import HTML"
      ],
      "metadata": {
        "id": "Eo6ppPTEnkf_"
      },
      "execution_count": 24,
      "outputs": []
    },
    {
      "cell_type": "code",
      "source": [
        "stargazer = Stargazer(modelos)\n",
        "paises = df_combined.country.unique().tolist()\n",
        "stargazer.custom_columns(paises)\n",
        "stargazer.title(\"Modelo de la curva de Phillips\")\n",
        "\n",
        "html_table = stargazer.render_html()\n",
        "HTML(html_table)"
      ],
      "metadata": {
        "colab": {
          "base_uri": "https://localhost:8080/",
          "height": 353
        },
        "id": "3SiEOvVklw1o",
        "outputId": "7e050d6d-3dea-4762-c89e-73611358a44a"
      },
      "execution_count": 25,
      "outputs": [
        {
          "output_type": "execute_result",
          "data": {
            "text/plain": [
              "<IPython.core.display.HTML object>"
            ],
            "text/html": [
              "Modelo de la curva de Phillips<br><table style=\"text-align:center\"><tr><td colspan=\"4\" style=\"border-bottom: 1px solid black\"></td></tr>\n",
              "<tr><td style=\"text-align:left\"></td><td colspan=\"3\"><em>Dependent variable: np.log(inflacion)</em></td></tr><tr><td style=\"text-align:left\"></td><tr><td></td><td colspan=\"1\">Bolivia</td><td colspan=\"1\">Chile</td><td colspan=\"1\">Peru</td></tr><tr><td style=\"text-align:left\"></td><td>(1)</td><td>(2)</td><td>(3)</td></tr>\n",
              "<tr><td colspan=\"4\" style=\"border-bottom: 1px solid black\"></td></tr>\n",
              "\n",
              "<tr><td style=\"text-align:left\">Intercept</td><td>3.054<sup>***</sup></td><td>3.868<sup>***</sup></td><td>0.948<sup></sup></td></tr>\n",
              "<tr><td style=\"text-align:left\"></td><td>(0.432)</td><td>(1.270)</td><td>(1.182)</td></tr>\n",
              "<tr><td style=\"text-align:left\">np.log(desempleo)</td><td>-1.682<sup>***</sup></td><td>-1.262<sup>**</sup></td><td>0.124<sup></sup></td></tr>\n",
              "<tr><td style=\"text-align:left\"></td><td>(0.400)</td><td>(0.598)</td><td>(0.814)</td></tr>\n",
              "\n",
              "<td colspan=\"4\" style=\"border-bottom: 1px solid black\"></td></tr>\n",
              "<tr><td style=\"text-align: left\">Observations</td><td>28</td><td>28</td><td>28</td></tr><tr><td style=\"text-align: left\">R<sup>2</sup></td><td>0.404</td><td>0.146</td><td>0.001</td></tr><tr><td style=\"text-align: left\">Adjusted R<sup>2</sup></td><td>0.381</td><td>0.113</td><td>-0.038</td></tr><tr><td style=\"text-align: left\">Residual Std. Error</td><td>0.609 (df=26)</td><td>0.650 (df=26)</td><td>0.808 (df=26)</td></tr><tr><td style=\"text-align: left\">F Statistic</td><td>17.641<sup>***</sup> (df=1; 26)</td><td>4.454<sup>**</sup> (df=1; 26)</td><td>0.023<sup></sup> (df=1; 26)</td></tr>\n",
              "<tr><td colspan=\"4\" style=\"border-bottom: 1px solid black\"></td></tr><tr><td style=\"text-align: left\">Note:</td><td colspan=\"3\" style=\"text-align: right\"><sup>*</sup>p&lt;0.1; <sup>**</sup>p&lt;0.05; <sup>***</sup>p&lt;0.01</td></tr></table>"
            ]
          },
          "metadata": {},
          "execution_count": 25
        }
      ]
    },
    {
      "cell_type": "code",
      "execution_count": 26,
      "metadata": {
        "id": "O4iWbVHmPlNA"
      },
      "outputs": [],
      "source": [
        "y_fit = []\n",
        "for i in range(0,3):\n",
        "  y = modelos[i].predict(pd.DataFrame({'desempleo':x_range[i]}))\n",
        "  y_fit.append(y)"
      ]
    },
    {
      "cell_type": "code",
      "execution_count": 27,
      "metadata": {
        "id": "NjXNDR-53FJc"
      },
      "outputs": [],
      "source": [
        "colores={'Peru':'r','Chile':'b','Bolivia':'g'}"
      ]
    },
    {
      "cell_type": "code",
      "source": [
        "col = ['g','b','r']"
      ],
      "metadata": {
        "id": "kWHbUgxRVYS1"
      },
      "execution_count": 28,
      "outputs": []
    },
    {
      "cell_type": "code",
      "source": [
        "legend_handles = []\n",
        "for country, color in colores.items():\n",
        "    legend_handles.append(plt.Line2D([0], [0], marker='o', color='w', label=country, markerfacecolor=color, markersize=10))"
      ],
      "metadata": {
        "id": "XzE3jSlz1Tp2"
      },
      "execution_count": 29,
      "outputs": []
    },
    {
      "cell_type": "code",
      "source": [
        "fig, ax = plt.subplots()\n",
        "ax.scatter(y=df_combined['inflacion'],x=df_combined['desempleo'],c=df_combined['country'].map(colores))\n",
        "ax.set_title(r'Curva de Phillips: ' + '\\n' + r'$Inflacion = A.Desempleo^{\\beta_1}$')\n",
        "for i in range(0,3):\n",
        "  ax.plot(x_range[i],np.exp(y_fit[i]),col[i])\n",
        "ax.legend(handles=legend_handles, loc='upper right', title='Países')"
      ],
      "metadata": {
        "colab": {
          "base_uri": "https://localhost:8080/",
          "height": 496
        },
        "id": "38YjlN9tSO3O",
        "outputId": "0dd24a26-daee-4be6-c3ac-d5a6612151a0"
      },
      "execution_count": 30,
      "outputs": [
        {
          "output_type": "execute_result",
          "data": {
            "text/plain": [
              "<matplotlib.legend.Legend at 0x797d24f33c40>"
            ]
          },
          "metadata": {},
          "execution_count": 30
        },
        {
          "output_type": "display_data",
          "data": {
            "text/plain": [
              "<Figure size 640x480 with 1 Axes>"
            ],
            "image/png": "[encoded data removed]"
          },
          "metadata": {}
        }
      ]
    }
  ],
  "metadata": {
    "colab": {
      "provenance": [],
      "toc_visible": true
    },
    "kernelspec": {
      "display_name": "Python 3",
      "name": "python3"
    },
    "language_info": {
      "name": "python"
    }
  },
  "nbformat": 4,
  "nbformat_minor": 0
}